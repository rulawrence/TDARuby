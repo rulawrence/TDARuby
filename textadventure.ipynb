{
 "cells": [
  {
   "cell_type": "code",
   "execution_count": 21,
   "metadata": {},
   "outputs": [
    {
     "name": "stdout",
     "output_type": "stream",
     "text": [
      "Welcome to your bedroom, you are in front of the door\n",
      "W is one step forwards\n",
      "Z is one step backwards\n",
      "A is one step to the left\n",
      "S is one step to the right\n",
      "Where do you want to go next?\n",
      "You're at the wardrobe - you've put your coat on first -- GAME OVER\n"
     ]
    }
   ],
   "source": [
    "# locationz: as you enter you room\n",
    "# locationa: one step right of z\n",
    "# locationb: two steps right of z\n",
    "# locationc: three right of z -- THE CLOTHES CHAIR\n",
    "# locationd: one step forward of z\n",
    "# locatione: one step forward, one step left of z -- THE WARDROBE\n",
    "# locationf: one step forward, one step right of z\n",
    "# locationl : one step forward, two steps right of z -- THE BED\n",
    "# locationg: two steps forward of z\n",
    "# locationh: two steps forward of z, one step right of z\n",
    "# locationi: two steps forward of z, two steps right of z -- THE BED\n",
    "# locationj: three steps forward of z -- THE TOP DRAWER\n",
    "# locationk: three steps forward of z, bend down -- THE MIDDLE DRAWER\n",
    "\n",
    "# THE CLOTHES CHAIR: jeans are here\n",
    "# THE WARDROBE: coat is here\n",
    "# THE BED: you laid down -- GAME OVER -- you're not going out\n",
    "# THE TOP DRAWER: underwear is here\n",
    "# THE MIDDLE DRAWER: t-shirt is here\n",
    "\n",
    "print(f\"Welcome to your bedroom, you are in front of the door\")\n",
    "print(f\"W is one step forwards\")\n",
    "print(f\"Z is one step backwards\")\n",
    "print(f\"A is one step to the left\")\n",
    "print(f\"S is one step to the right\")\n",
    "\n",
    "firstmove = (input(f\"Where do you want to go?\"))\n",
    "if firstmove.lower() == \"w\" or firstmove.lower() == \"a\" or firstmove.lower() == \"s\":\n",
    "    print(f\"Where do you want to go next?\")\n",
    "elif firstmove.lower() == \"z\":\n",
    "    print(f\"You've just left your bedroom -- GAME OVER\")\n",
    "\n",
    "secondmove = (input(f\"Where do you want to go next?\"))\n",
    "if firstmove.lower() == \"w\" and secondmove.lower() == \"w\" or secondmove.lower() == \"s\":\n",
    "    print(f\"Where do you want to go next?\")\n",
    "if firstmove.lower() == \"w\" and secondmove.lower() == \"a\":\n",
    "    print(f\"You're at the wardrobe - you've put your coat on first -- GAME OVER\")\n",
    "if firstmove.lower() == \"w\" and secondmove.lower() == \"z\":\n",
    "    print(f\"You're back where you started -- GAME OVER\")\n",
    "\n",
    "thirdmove = (input(f\"And now where do you want to go?\"))\n",
    "if firstmove.lower() == \"w\" and secondmove.lower == \"w\" and thirdmove.lower == \"w\"\n",
    "    draweroption = (input(f\"You're at the drawers. Do you want to open the top drawer or the bottom drawer?\"))\n",
    "\n",
    "\n",
    "# THIS IS AWFUL\n"
   ]
  },
  {
   "cell_type": "markdown",
   "metadata": {},
   "source": []
  }
 ],
 "metadata": {
  "kernelspec": {
   "display_name": "Python 3",
   "language": "python",
   "name": "python3"
  },
  "language_info": {
   "codemirror_mode": {
    "name": "ipython",
    "version": 3
   },
   "file_extension": ".py",
   "mimetype": "text/x-python",
   "name": "python",
   "nbconvert_exporter": "python",
   "pygments_lexer": "ipython3",
   "version": "3.12.5"
  }
 },
 "nbformat": 4,
 "nbformat_minor": 2
}
