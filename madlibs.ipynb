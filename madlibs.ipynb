{
 "cells": [
  {
   "cell_type": "code",
   "execution_count": 1,
   "metadata": {},
   "outputs": [
    {
     "name": "stdout",
     "output_type": "stream",
     "text": [
      "In the light of the moon, a little egg lay on a leaf. One Tuesday morning the warm sun came up and - POP - out of the egg came a tiny, very hungry rat. She started looking for some food. On Wednesday she ate through one grapes. But she was still hungry. On Thursday she ate through two blackberries. But she was still hungry. On Friday she ate through three raspberries. But she was still hungry. On Saturday she ate through four peachs. But she was still hungry. On Sunday she ate through five lemons. But she was still hungry. On Monday she ate through one piece of strawberry cake, one scoop of salty ice cream, one slice of sea bass, one piece of cranberry pie and lots of mozzarella. That night she had a tummy ache! The next day was Tuesday again. The rat wasn't hungry anymore. And she wasn't tiny anymore. She was a big fat rat. She built a cosy house around herself and stayed inside for more than 6 weeks. Then she nibbled a hole in the house, pushed her way out and she was now a beautiful giraffe.\n"
     ]
    }
   ],
   "source": [
    "# days input\n",
    "days = [\"Monday\", \"Tuesday\", \"Wednesday\", \"Thursday\", \"Friday\", \"Saturday\", \"Sunday\"]\n",
    "days1 = days + days\n",
    "inputday = input(f\"Enter a day of the week\")\n",
    "for i in range(0,7):\n",
    "    if inputday.title() == days1[i]:\n",
    "        firstday = days1[i]\n",
    "        secondday = days1[i+1]\n",
    "        thirdday = days1[i+2]\n",
    "        fourthday = days1[i+3]\n",
    "        fifthday = days1[i+4]\n",
    "        sixthday = days1[i+5]\n",
    "        seventhday = days1[i+6]\n",
    "\n",
    "# other inputs\n",
    "animal = input(f\"Enter your favourite animal\")\n",
    "animal1 = input(f\"Enter your least favourite animal\")\n",
    "fruit = input(f\"Enter a fruit\")\n",
    "fruit1 = input(f\"Enter another fruit\")\n",
    "fruit2 = input(f\"Enter yet another fruit\")\n",
    "fruit3 = input(f\"Enter a fourth fruit\")\n",
    "fruit4 = input(f\"Enter one last fruit\")\n",
    "flavour = input(f\"Enter a flavour\")\n",
    "flavour1 = input(f\"Enter another flavour\")\n",
    "meat = input(f\"Enter a meat\")\n",
    "cheese = input(f\"Enter a cheese\")\n",
    "number = input(f\"Enter a number\")\n",
    "fruit5 = input(f\"And finally... enter a fruit\")\n",
    "\n",
    "# dealing with fruits that end in y\n",
    "if fruit1[-1] == \"y\":\n",
    "    fruit1 = fruit1.replace(\"y\", \"ie\")\n",
    "if fruit2[-1] == \"y\":\n",
    "    fruit2 = fruit2.replace(\"y\", \"ie\")\n",
    "if fruit3[-1] == \"y\":\n",
    "    fruit3 = fruit3.replace(\"y\", \"ie\")\n",
    "if fruit4[-1] == \"y\":\n",
    "    fruit4 = fruit4.replace(\"y\", \"ie\")\n",
    "\n",
    "# the story\n",
    "line0 = f\"In the light of the moon, a little egg lay on a leaf. \"\n",
    "line1= f\"One {firstday} morning the warm sun came up \" \n",
    "line2 = f\"and - POP - out of the egg came a tiny, very hungry {animal1}. \"\n",
    "line3 = f\"She started looking for some food. \"\n",
    "line4 = f\"On {secondday} she ate through one {fruit}. But she was still hungry. \"\n",
    "line5 = f\"On {thirdday} she ate through two {fruit1 + \"s\"}. But she was still hungry. \"\n",
    "line6 = f\"On {fourthday} she ate through three {fruit2 + \"s\"}. But she was still hungry. \"\n",
    "line7 = f\"On {fifthday} she ate through four {fruit3 + \"s\"}. But she was still hungry. \"\n",
    "line8 = f\"On {sixthday} she ate through five {fruit4 + \"s\"}. But she was still hungry. \"\n",
    "line9 = f\"On {seventhday} she ate through one piece of {flavour} cake, one scoop of {flavour1} ice cream, one slice of {meat}, one piece of {fruit5} pie and lots of {cheese}. \"\n",
    "line10 = f\"That night she had a tummy ache! \"\n",
    "line11 = f\"The next day was {firstday} again. \"\n",
    "line12 = f\"The {animal1} wasn't hungry anymore. And she wasn't tiny anymore. She was a big fat {animal1}. \"\n",
    "line13 = f\"She built a cosy house around herself and stayed inside for more than {number} weeks. \"\n",
    "line14 = f\"Then she nibbled a hole in the house, pushed her way out and she was now a beautiful {animal}.\"\n",
    "\n",
    "print(line0 + line1 + line2 + line3 + line4 + line5 + line6 + line7 + line8 + line9 + line10 + line11 + line12 + line13 + line14)"
   ]
  }
 ],
 "metadata": {
  "kernelspec": {
   "display_name": "Python 3",
   "language": "python",
   "name": "python3"
  },
  "language_info": {
   "codemirror_mode": {
    "name": "ipython",
    "version": 3
   },
   "file_extension": ".py",
   "mimetype": "text/x-python",
   "name": "python",
   "nbconvert_exporter": "python",
   "pygments_lexer": "ipython3",
   "version": "3.12.5"
  }
 },
 "nbformat": 4,
 "nbformat_minor": 2
}
