{
 "cells": [
  {
   "cell_type": "code",
   "execution_count": null,
   "metadata": {},
   "outputs": [],
   "source": [
    "import random\n",
    "number = list(range(1,21))\n",
    "ran_number = random.choice(number)\n",
    "while True:\n",
    "    guess = int(input(\"Guess a number between 1 and 20\"))\n",
    "    print(guess)\n",
    "    if guess > 20:\n",
    "        print(\"Out of range\")\n",
    "    elif guess > ran_number:\n",
    "        print(\"Too high!\")\n",
    "    if guess < ran_number:\n",
    "        print(\"Too low!\")\n",
    "    if guess == ran_number:\n",
    "        print(\"Correct!\")\n",
    "        break"
   ]
  }
 ],
 "metadata": {
  "kernelspec": {
   "display_name": "Python 3",
   "language": "python",
   "name": "python3"
  },
  "language_info": {
   "name": "python",
   "version": "3.12.5"
  }
 },
 "nbformat": 4,
 "nbformat_minor": 2
}
