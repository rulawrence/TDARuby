{
 "cells": [
  {
   "cell_type": "code",
   "execution_count": 2,
   "metadata": {},
   "outputs": [
    {
     "name": "stdout",
     "output_type": "stream",
     "text": [
      "10\n",
      "Too low!\n",
      "15\n",
      "Too high!\n",
      "12\n",
      "Correct!\n"
     ]
    }
   ],
   "source": [
    "import random\n",
    "number = list(range(1,21))\n",
    "ran_number = random.choice(number)\n",
    "while True:\n",
    "    guess = int(input(\"Guess a number between 1 and 20\"))\n",
    "    print(guess)\n",
    "    if guess > 20:\n",
    "        print(\"Out of range\")\n",
    "    elif guess > ran_number:\n",
    "        print(\"Too high!\")\n",
    "    if guess < ran_number:\n",
    "        print(\"Too low!\")\n",
    "    if guess == ran_number:\n",
    "        print(\"Correct!\")\n",
    "        break"
   ]
  },
  {
   "cell_type": "code",
   "execution_count": null,
   "metadata": {},
   "outputs": [],
   "source": []
  }
 ],
 "metadata": {
  "kernelspec": {
   "display_name": "Python 3",
   "language": "python",
   "name": "python3"
  },
  "language_info": {
   "codemirror_mode": {
    "name": "ipython",
    "version": 3
   },
   "file_extension": ".py",
   "mimetype": "text/x-python",
   "name": "python",
   "nbconvert_exporter": "python",
   "pygments_lexer": "ipython3",
   "version": "3.12.5"
  }
 },
 "nbformat": 4,
 "nbformat_minor": 2
}
