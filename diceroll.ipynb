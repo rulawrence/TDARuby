{
 "cells": [
  {
   "cell_type": "code",
   "execution_count": null,
   "metadata": {},
   "outputs": [],
   "source": [
    "import random\n",
    "num = list(range(1,7))\n",
    "while True:\n",
    "    random_number = random.choice(num)\n",
    "    print(random_number)\n",
    "    answer = input(\"Would you like to roll again? yes/no\")\n",
    "    if answer.lower() != \"yes\": # user can input yes in any case\n",
    "        break"
   ]
  }
 ],
 "metadata": {
  "kernelspec": {
   "display_name": "Python 3",
   "language": "python",
   "name": "python3"
  },
  "language_info": {
   "name": "python",
   "version": "3.12.5"
  }
 },
 "nbformat": 4,
 "nbformat_minor": 2
}
